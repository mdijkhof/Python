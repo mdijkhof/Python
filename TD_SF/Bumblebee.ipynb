{
 "cells": [
  {
   "cell_type": "code",
   "execution_count": null,
   "metadata": {},
   "outputs": [],
   "source": [
    "import pandas as pd\n",
    "from megatron import saving as m\n",
    "from simple_salesforce import bulk\n",
    "from connect import td_query as td\n",
    "from connect import sf_query as sf\n",
    "#from connect import sf_login as sfl\n",
    "from datetime import date\n"
   ]
  },
  {
   "cell_type": "code",
   "execution_count": null,
   "metadata": {},
   "outputs": [],
   "source": [
    "### This is the BUMBLEBEE output in a dataframe\n",
    "\n",
    "# connect and query Teradata\n",
    "bumblebee = td('SELECT DISTINCT account_id,current_owner_id,employee_sf_id FROM sandbox.bumblebee_output where employee_sf_id IS NOT NULL')\n",
    "bumblebee['account_id'] = bumblebee['account_id'].str.strip()\n"
   ]
  },
  {
   "cell_type": "code",
   "execution_count": null,
   "metadata": {},
   "outputs": [],
   "source": [
    "### This is the current account ownership in SF\n",
    "\n",
    "# define variables\n",
    "account_ids = bumblebee['account_id'].tolist()\n",
    "owner_ids = []\n",
    "\n",
    "# get data from SOQL query and add to dictionary\n",
    "for account_id in account_ids:\n",
    "    soql_output = sf('SELECT Account_ID_18__c,OwnerId FROM Account where Account_ID_18__c',account_id)\n",
    "    owner_id = soql_output['records'][0]['OwnerId']\n",
    "    owner_ids.append(owner_id)\n",
    "    \n",
    "data = {\n",
    "    'account_id': account_ids,\n",
    "    'owner_id': owner_ids\n",
    "}\n",
    "\n",
    "current_owner_table = pd.DataFrame(data)\n"
   ]
  },
  {
   "cell_type": "code",
   "execution_count": null,
   "metadata": {},
   "outputs": [],
   "source": [
    "### The filtered table is ready for upload to SF\n",
    "\n",
    "# This joins the current_owner_table and the bumblebee table\n",
    "df = bumblebee.join(current_owner_table.set_index('account_id'), on='account_id')\n",
    "\n",
    "# this filters the table on current_owner_id in Teradata compared to owner_id in SF, and also on the intended employee_sf_id to the current owner_id in SF\n",
    "filtered_table = df.drop(df[(df['current_owner_id'] != df['owner_id']) & (df['owner_id'] == df['employee_sf_id'])].index)\n",
    "\n",
    "# this drops unnecesary columns\n",
    "filtered_table.drop('current_owner_id', axis=1, inplace=True)\n",
    "filtered_table.drop('owner_id', axis=1, inplace=True)\n",
    "\n",
    "# columns are renamed to fit Salesforce names\n",
    "filtered_table.columns = ['Id','OwnerId']\n"
   ]
  },
  {
   "cell_type": "code",
   "execution_count": null,
   "metadata": {},
   "outputs": [],
   "source": [
    "### The data is converted into an ordered dictionary, which is a requirement for SF bulk upload\n",
    "ready_for_upload = []\n",
    "\n",
    "for row in filtered_table.itertuples():\n",
    "    d = row._asdict()\n",
    "    del d['Index']\n",
    "    ready_for_upload.append(d)\n"
   ]
  },
  {
   "cell_type": "code",
   "execution_count": null,
   "metadata": {},
   "outputs": [],
   "source": [
    "### updates are made in Salesforce\n",
    "from simple_salesforce import Salesforce as sf\n",
    "    \n",
    "login_sf = sf(username = 'svc_rao@groupon.com', password = 'Password-1Je8IR8frn0gkbS68Eq4OHZmM', security_token = '')\n",
    "\n",
    "login_sf.bulk.Account.update(ready_for_upload,batch_size=10000,use_serial=True)\n"
   ]
  },
  {
   "cell_type": "code",
   "execution_count": null,
   "metadata": {},
   "outputs": [],
   "source": [
    "## upload data to Teradata for metadata reporting\n",
    "load_date = str(date.today())\n",
    "filtered_table['load_date'] = load_date\n",
    "\n",
    "m.df_to_sql(filtered_table,table_name='bumblebee_processed_changes', adapter='teradata')\n",
    "\n",
    "print(\"Success\")"
   ]
  }
 ],
 "metadata": {
  "kernelspec": {
   "display_name": "Python 3.10.5 64-bit",
   "language": "python",
   "name": "python3"
  },
  "language_info": {
   "codemirror_mode": {
    "name": "ipython",
    "version": 3
   },
   "file_extension": ".py",
   "mimetype": "text/x-python",
   "name": "python",
   "nbconvert_exporter": "python",
   "pygments_lexer": "ipython3",
   "version": "3.10.5"
  },
  "orig_nbformat": 4,
  "vscode": {
   "interpreter": {
    "hash": "414c148522c3452b8bca3bc99b333facd4b5aaa0d0e2364d6105bb7336ba2f62"
   }
  }
 },
 "nbformat": 4,
 "nbformat_minor": 2
}
