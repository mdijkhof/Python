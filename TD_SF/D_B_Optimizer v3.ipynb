{
 "cells": [
  {
   "cell_type": "code",
   "execution_count": 3,
   "metadata": {},
   "outputs": [],
   "source": [
    "from simple_salesforce import Salesforce as sf\n",
    "login_sf = sf(username = 'svc_rao@groupon.com', password = 'Password-1Je8IR8frn0gkbS68Eq4OHZmM', security_token = '')\n",
    "\n",
    "import pandas as pd\n",
    "from simple_salesforce import bulk\n",
    "from megatron import saving as m\n",
    "import pygsheets\n",
    "import os\n",
    "\n",
    "from connect import sf_query\n"
   ]
  },
  {
   "cell_type": "code",
   "execution_count": 4,
   "metadata": {},
   "outputs": [],
   "source": [
    "gc = pygsheets.authorize(service_file=os.path.expanduser(\"~\")+\"\\\\.megatron\\\\google_service_account_secret.json\")\n",
    "\n",
    "sh = gc.open_by_key('1-XYkQmKeUKZRCuiLrzPuzqVYKttSbLW587U901rK734')\n",
    "\n",
    "# define the following worksheets\n",
    "live_accounts = sh.worksheet_by_title(\"live_accounts\")\n",
    "db_output = sh.worksheet_by_title(\"db_output\")\n",
    "live_acc = live_accounts.get_values(\"B2\",\"B25000\")\n",
    "\n",
    "acc_list = []\n",
    "db_ids = []\n",
    "\n",
    "for acc in live_acc:\n",
    "    for x in acc:\n",
    "        acc_list.append(x)\n"
   ]
  },
  {
   "cell_type": "code",
   "execution_count": 5,
   "metadata": {},
   "outputs": [],
   "source": [
    "for acc in acc_list:\n",
    "    try:\n",
    "        output = sf_query(\"SELECT Id,DNBoptimizer__DnBCompanyRecord__c FROM Account WHERE Id\",acc)\n",
    "    except:\n",
    "        pass\n",
    "    \n",
    "    try:    \n",
    "        db_id = output['records'][0]['DNBoptimizer__DnBCompanyRecord__c']\n",
    "        db_ids.append(db_id)\n",
    "    except:\n",
    "        db_ids.append('None')\n"
   ]
  },
  {
   "cell_type": "code",
   "execution_count": 6,
   "metadata": {},
   "outputs": [],
   "source": [
    "db_output = []\n",
    "\n",
    "for db_id in db_ids:\n",
    "    if db_id == None:\n",
    "        pass\n",
    "    else:\n",
    "        output = sf_query(\"SELECT Id,DNBoptimizer__BusinessName__c,DNBoptimizer__DUNSNumber__c,DNBoptimizer__GlobalUltimateDUNSNumber__c,DNBoptimizer__DelistedIndicator__c,DNBoptimizer__EmployeeCountTotal__c,DNBoptimizer__LocationType__c,DNBoptimizer__NAICSDescription1__c,DNBoptimizer__NAICSDescription2__c,DNBoptimizer__NAICSDescription3__c,DNBoptimizer__OutofBusinessIndicator__c,DNBoptimizer__PrimaryCityName__c,DNBoptimizer__PrimaryCountryCode_ISO__c,DNBoptimizer__PrimaryCountryName__c,DNBoptimizer__PrimaryPostalCode__c,DNBoptimizer__PrimaryStreetAddress__c,DNBoptimizer__TelephoneNumber__c,DNBoptimizer__WebAddress__c,DNBoptimizer__YearStarted__c FROM DNBoptimizer__DnBCompanyRecord__c where Id\",db_id)\n",
    "        db_output.append(output['records'][0])\n"
   ]
  },
  {
   "cell_type": "code",
   "execution_count": 7,
   "metadata": {},
   "outputs": [],
   "source": [
    "db_output = pd.DataFrame(db_output)\n",
    "db_output = db_output.iloc[:,1:]\n",
    "db_output = db_output.rename(columns={'Id':'db_id'})\n"
   ]
  },
  {
   "cell_type": "code",
   "execution_count": 8,
   "metadata": {},
   "outputs": [],
   "source": [
    "\n",
    "db_map = {\n",
    "    'account_id': acc_list,\n",
    "    'db_id': db_ids\n",
    "    }\n",
    "\n",
    "db_map = pd.DataFrame(db_map)\n"
   ]
  },
  {
   "cell_type": "code",
   "execution_count": 9,
   "metadata": {},
   "outputs": [],
   "source": [
    "db_table = db_map.join(db_output.set_index('db_id'), on='db_id',how='left')\n"
   ]
  },
  {
   "cell_type": "code",
   "execution_count": 10,
   "metadata": {},
   "outputs": [
    {
     "name": "stdout",
     "output_type": "stream",
     "text": [
      "[21:02:09] [OK] saving dataframe to https://docs.google.com/spreadsheets/d/1-XYkQmKeUKZRCuiLrzPuzqVYKttSbLW587U901rK734/edit (sheet: db_output, how: replace, shape: (25522, 20)) succeeded\n",
      "Success\n"
     ]
    }
   ],
   "source": [
    "m.df_to_gdoc(db_table,'1-XYkQmKeUKZRCuiLrzPuzqVYKttSbLW587U901rK734','db_output')\n",
    "\n",
    "print(\"Success\")"
   ]
  }
 ],
 "metadata": {
  "kernelspec": {
   "display_name": "Python 3.10.5 64-bit",
   "language": "python",
   "name": "python3"
  },
  "language_info": {
   "codemirror_mode": {
    "name": "ipython",
    "version": 3
   },
   "file_extension": ".py",
   "mimetype": "text/x-python",
   "name": "python",
   "nbconvert_exporter": "python",
   "pygments_lexer": "ipython3",
   "version": "3.10.5"
  },
  "orig_nbformat": 4,
  "vscode": {
   "interpreter": {
    "hash": "414c148522c3452b8bca3bc99b333facd4b5aaa0d0e2364d6105bb7336ba2f62"
   }
  }
 },
 "nbformat": 4,
 "nbformat_minor": 2
}
