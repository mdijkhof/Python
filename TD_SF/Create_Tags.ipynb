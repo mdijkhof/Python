{
 "cells": [
  {
   "cell_type": "code",
   "execution_count": null,
   "metadata": {},
   "outputs": [],
   "source": [
    "from simple_salesforce import Salesforce as sf\n",
    "\n",
    "login_sf = sf(username = 'intl_sales_ops_analysts@groupon.com', password = 'BA_intl_grp_3', security_token = 'ryDPBLSTkb54qbEY06GJSiA0')\n",
    "\n",
    "account_id = '001C000001T3FQrIAN'\n",
    "tag_name = \"Mark_Test\"\n",
    "tag_id = ''\n",
    "\n",
    "data = {\n",
    "    'Account__c':account_id,\n",
    "    'Name':tag_name\n",
    "}\n",
    "\n",
    "login_sf.Tag__c.(tag_id,data)\n",
    "\n"
   ]
  },
  {
   "cell_type": "code",
   "execution_count": 3,
   "metadata": {},
   "outputs": [
    {
     "data": {
      "text/plain": [
       "OrderedDict([('id', '00Q3c00001wcd6oEAA'), ('success', True), ('errors', [])])"
      ]
     },
     "execution_count": 3,
     "metadata": {},
     "output_type": "execute_result"
    }
   ],
   "source": [
    "from simple_salesforce import Salesforce as sf\n",
    "\n",
    "login_sf = sf(username = 'intl_sales_ops_analysts@groupon.com', password = 'BA_intl_grp_3', security_token = 'ryDPBLSTkb54qbEY06GJSiA0')\n",
    "\n",
    "Company = 'Mark_Test'\n",
    "Feature_Country__c = 'NL'\n",
    "LastName = 'Dijkhof'\n",
    "\n",
    "\n",
    "data = {\n",
    "    'Company':Company,\n",
    "    'Feature_Country__c':Feature_Country__c,\n",
    "    'LastName': LastName\n",
    "}\n",
    "\n",
    "#login_sf.Lead.create(data)\n",
    "\n",
    "'https://groupon-dev.lightning.force.com/lightning/r/Lead/00Q3c00001wcd6oEAA/view'"
   ]
  }
 ],
 "metadata": {
  "kernelspec": {
   "display_name": "Python 3.10.5 64-bit",
   "language": "python",
   "name": "python3"
  },
  "language_info": {
   "codemirror_mode": {
    "name": "ipython",
    "version": 3
   },
   "file_extension": ".py",
   "mimetype": "text/x-python",
   "name": "python",
   "nbconvert_exporter": "python",
   "pygments_lexer": "ipython3",
   "version": "3.10.5"
  },
  "orig_nbformat": 4,
  "vscode": {
   "interpreter": {
    "hash": "414c148522c3452b8bca3bc99b333facd4b5aaa0d0e2364d6105bb7336ba2f62"
   }
  }
 },
 "nbformat": 4,
 "nbformat_minor": 2
}
