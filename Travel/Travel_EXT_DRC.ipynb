{
 "cells": [
  {
   "cell_type": "code",
   "execution_count": 1,
   "metadata": {},
   "outputs": [],
   "source": [
    "import os\n",
    "import requests\n",
    "import json\n",
    "import pygsheets\n",
    "from datetime import datetime\n"
   ]
  },
  {
   "cell_type": "code",
   "execution_count": null,
   "metadata": {},
   "outputs": [],
   "source": [
    "\n",
    "now = datetime.utcnow().strftime('%Y-%m-%d')\n",
    "\n",
    "# point and use the right google credentials\n",
    "gc = pygsheets.authorize(service_file=os.path.expanduser(\"~\")+\"\\\\.megatron\\\\google_service_account_secret.json\")\n",
    "\n",
    "# open the following google sheet\n",
    "sh = gc.open_by_key('1IdFaTUqxf6v6V_GONlVsNWbobajlPEPRZ-XyDm-gUAQ')\n",
    "\n",
    "# define the following worksheets\n",
    "wks_divisions = sh.worksheet_by_title(\"active_divisions\")\n",
    "wks_deals = sh.worksheet_by_title(\"live_deals\")\n",
    "\n",
    "# values from sheet (list of IDs)\n",
    "live_deals = wks_deals.get_values(\"A1\",\"B10000\")\n",
    "\n",
    "divisions = [[\"load_date\",\"deal_uuid\",\"contract_id\",\"country_code\"]]\n",
    "errors = []\n"
   ]
  },
  {
   "cell_type": "code",
   "execution_count": 5,
   "metadata": {},
   "outputs": [],
   "source": [
    "### for all deal_uuids, get the distribution region codes from datacatalog and append them to a list\n",
    "for i in range(1,len(live_deals)):\n",
    "    deal_uuid = live_deals[i][0]\n",
    "    contract_id = live_deals[i][1]\n",
    "\n",
    "    url = f'http://deal-catalog.snc1/deal_catalog/v2/deals/{deal_uuid}?clientId=f183e5fbee1bb4cd-display-ads'\n",
    "    try:\n",
    "        r = requests.get(url)\n",
    "        json_deal_catalogue = json.loads(r.text)\n",
    "        DRC = []\n",
    "        DRC = json_deal_catalogue[\"deal\"][\"distributionRegionCodes\"]\n",
    "        for c in DRC:\n",
    "            country = c\n",
    "            divisions.append([now,deal_uuid,contract_id,country])\n",
    "    except:\n",
    "        errors.append(deal_uuid)\n",
    "        pass\n"
   ]
  },
  {
   "cell_type": "code",
   "execution_count": null,
   "metadata": {},
   "outputs": [],
   "source": [
    "### update google sheet with the information from data_catalog\n",
    "crange = f'A1:D{len(divisions)}'\n",
    "wks_divisions.clear()\n",
    "wks_divisions.update_values(crange, divisions)"
   ]
  }
 ],
 "metadata": {
  "kernelspec": {
   "display_name": "Python 3.10.5 64-bit",
   "language": "python",
   "name": "python3"
  },
  "language_info": {
   "codemirror_mode": {
    "name": "ipython",
    "version": 3
   },
   "file_extension": ".py",
   "mimetype": "text/x-python",
   "name": "python",
   "nbconvert_exporter": "python",
   "pygments_lexer": "ipython3",
   "version": "3.10.5"
  },
  "orig_nbformat": 4,
  "vscode": {
   "interpreter": {
    "hash": "414c148522c3452b8bca3bc99b333facd4b5aaa0d0e2364d6105bb7336ba2f62"
   }
  }
 },
 "nbformat": 4,
 "nbformat_minor": 2
}
