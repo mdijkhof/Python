{
 "cells": [
  {
   "cell_type": "code",
   "execution_count": null,
   "metadata": {},
   "outputs": [],
   "source": [
    "import requests\n",
    "import json\n",
    "from datetime import datetime\n",
    "import teradatasql\n",
    "import pandas as pd\n"
   ]
  },
  {
   "cell_type": "code",
   "execution_count": null,
   "metadata": {},
   "outputs": [],
   "source": [
    "\n",
    "### Connect to Teradata and get all deals that need to be checked in Deal Catalogue\n",
    "con = teradatasql.connect(host='tdwd.group.on',user='ub_intl_sales_ops',password='BA_intl_grp_3')\n",
    "input_data = pd.read_sql(\"SELECT deal_uuid,contract_number FROM sandbox.EMEA_Travel_deals_dim WHERE deal_ends_at >= Current_Date AND booking_voucher = 'Booking' AND country_name IN ('BE','DE','ES','FR','GB', 'IE', 'IT', 'NL', 'PL','AU') GROUP BY 1,2\",con)\n",
    "\n",
    "live_deals = input_data.values.tolist()\n",
    "\n",
    "print(live_deals)\n"
   ]
  },
  {
   "cell_type": "code",
   "execution_count": null,
   "metadata": {},
   "outputs": [],
   "source": [
    "\n",
    "### Set up additional variables\n",
    "now = datetime.utcnow().strftime('%Y-%m-%d')\n",
    "\n",
    "### For all deal_uuids, check the deal_catalog values and add them to the Divisions variable and insert data into teradata\n",
    "for i in range(1,len(live_deals)):\n",
    "    deal_uuid = live_deals[i][0]\n",
    "    contract_id = live_deals[i][1]\n",
    "\n",
    "    url = f'http://deal-catalog.snc1/deal_catalog/v2/deals/{deal_uuid}?clientId=f183e5fbee1bb4cd-display-ads'\n",
    "    try:\n",
    "        r = requests.get(url)\n",
    "        json_deal_catalogue = json.loads(r.text)\n",
    "        DRC = []\n",
    "        DRC = json_deal_catalogue[\"deal\"][\"distributionRegionCodes\"]\n",
    "        for c in DRC:\n",
    "            print(c)\n",
    "            query = f\"INSERT INTO sandbox.getaways_xnt_drc ('{now}','{deal_uuid}','{contract_id}','{c}')\"\n",
    "            pd.read_sql_query(query,con)\n",
    "    except:\n",
    "        pass\n",
    "  \n",
    "print(\"Success\")"
   ]
  }
 ],
 "metadata": {
  "kernelspec": {
   "display_name": "Python 3.10.5 64-bit",
   "language": "python",
   "name": "python3"
  },
  "language_info": {
   "codemirror_mode": {
    "name": "ipython",
    "version": 3
   },
   "file_extension": ".py",
   "mimetype": "text/x-python",
   "name": "python",
   "nbconvert_exporter": "python",
   "pygments_lexer": "ipython3",
   "version": "3.10.5"
  },
  "orig_nbformat": 4,
  "vscode": {
   "interpreter": {
    "hash": "414c148522c3452b8bca3bc99b333facd4b5aaa0d0e2364d6105bb7336ba2f62"
   }
  }
 },
 "nbformat": 4,
 "nbformat_minor": 2
}
