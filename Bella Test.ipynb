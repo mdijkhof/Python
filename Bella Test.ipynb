{
 "cells": [
  {
   "cell_type": "code",
   "execution_count": null,
   "metadata": {},
   "outputs": [],
   "source": [
    "import requests\n",
    "import json\n",
    "import teradatasql\n",
    "import pandas as pd\n"
   ]
  },
  {
   "cell_type": "code",
   "execution_count": null,
   "metadata": {},
   "outputs": [],
   "source": [
    "\n",
    "### Connect to Teradata and get all deals that need to be checked in Deal Catalogue\n",
    "con = teradatasql.connect(host='tdwd.group.on',user='ub_intl_sales_ops',password='BA_intl_grp_4a')\n",
    "input_data = pd.read_sql(\"SELECT DISTINCT deal_uuid FROM sandbox.unagi WHERE opportunity_id IN ('0063c00001KdCPuAAN','0063c00001GASjXAAX','0063c00001HzTSvAAN','0063c00001DroL6AAJ','0063c00001DugYFAAZ')\",con)\n",
    "\n",
    "live_deals = input_data.values.tolist()\n",
    "\n",
    "print(len(live_deals))\n",
    "print(live_deals)\n"
   ]
  },
  {
   "cell_type": "code",
   "execution_count": null,
   "metadata": {},
   "outputs": [],
   "source": [
    "\n",
    "### For all deal_uuids, check the deal_catalog values\n",
    "for i in range(1,len(live_deals)):\n",
    "    deal_uuid = live_deals[i][0]\n",
    "    url = f'http://deal-catalog.snc1/deal_catalog/v2/deals/{deal_uuid}?clientId=f183e5fbee1bb4cd-display-ads'\n",
    "\n",
    "    try:\n",
    "        r = requests.get(url)\n",
    "        json_deal_catalogue = json.loads(r.text)\n",
    "        print(deal_uuid)\n",
    "        print(json_deal_catalogue['deal']['detailed_status'])\n",
    "    except:\n",
    "        pass\n",
    "  \n",
    "print(\"End of Script\")"
   ]
  }
 ],
 "metadata": {
  "kernelspec": {
   "display_name": "Python 3.10.5 64-bit",
   "language": "python",
   "name": "python3"
  },
  "language_info": {
   "codemirror_mode": {
    "name": "ipython",
    "version": 3
   },
   "file_extension": ".py",
   "mimetype": "text/x-python",
   "name": "python",
   "nbconvert_exporter": "python",
   "pygments_lexer": "ipython3",
   "version": "3.10.5"
  },
  "orig_nbformat": 4,
  "vscode": {
   "interpreter": {
    "hash": "414c148522c3452b8bca3bc99b333facd4b5aaa0d0e2364d6105bb7336ba2f62"
   }
  }
 },
 "nbformat": 4,
 "nbformat_minor": 2
}
