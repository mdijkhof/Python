{
 "cells": [
  {
   "cell_type": "code",
   "execution_count": 1,
   "metadata": {},
   "outputs": [
    {
     "name": "stderr",
     "output_type": "stream",
     "text": [
      ".megatron\\__init__.py:74: UserWarning: value of HIVE_PKEY is not provided! please fill in C:\\Users\\markd\\.megatron\\config.py file\n",
      ".megatron\\__init__.py:76: UserWarning: value of SFDC_CLIENT_ID is not provided! please fill in C:\\Users\\markd\\.megatron\\config.py file\n",
      ".megatron\\__init__.py:76: UserWarning: value of SFDC_CLIENT_SECRET is not provided! please fill in C:\\Users\\markd\\.megatron\\config.py file\n"
     ]
    }
   ],
   "source": [
    "import requests\n",
    "import pandas as pd\n",
    "from datetime import date\n",
    "import teradatasql\n",
    "from megatron import saving as m\n",
    "import json\n"
   ]
  },
  {
   "cell_type": "code",
   "execution_count": 5,
   "metadata": {},
   "outputs": [],
   "source": [
    "# connect to Teradata with a query to load in deal_uuids to check\n",
    "con = teradatasql.connect(host='tdwd.group.on',user='ub_intl_sales_ops',password='BA_intl_grp_3')\n",
    "query = \"SELECT DISTINCT opp2.deal_uuid FROM dwh_load_sf_view.sf_opportunity_1 AS opp JOIN dwh_load_sf_view.sf_opportunity_2 AS opp2 ON 1=1 AND opp.id = opp2.id WHERE 1=1 AND opp.feature_country = 'GB' AND opp.category_v3 NOT IN ('Travel','Goods') AND opp.closedate >= '2022-01-01' AND deal_state IS NOT NULL\"\n",
    "\n"
   ]
  },
  {
   "cell_type": "code",
   "execution_count": 6,
   "metadata": {},
   "outputs": [],
   "source": [
    "# convert deal_uuids from query to list\n",
    "df = pd.read_sql(query,con)\n",
    "deal_uuid = df['deal_uuid'].tolist()\n",
    "\n",
    "deal_state = []"
   ]
  },
  {
   "cell_type": "code",
   "execution_count": 7,
   "metadata": {},
   "outputs": [],
   "source": [
    "# loop over deal_uuids in list and find the status in deal catalog\n",
    "for deal in deal_uuid:\n",
    "    url = f'http://deal-catalog.snc1/deal_catalog/v2/deals/{deal}?clientId=f183e5fbee1bb4cd-display-ads'\n",
    "    response = requests.get(url)\n",
    "    data = response.json()\n",
    "    \n",
    "    # print(json.dumps(data,indent=4,sort_keys=False))\n",
    "    \n",
    "    status = data['deal']['status']\n",
    "    deal_state.append(status)"
   ]
  },
  {
   "cell_type": "code",
   "execution_count": 8,
   "metadata": {},
   "outputs": [],
   "source": [
    "# create a dataset with 3 columns\n",
    "data = {\n",
    "    'deal_uuid': deal_uuid, \n",
    "    'deal_state': deal_state, \n",
    "    'load_date': str(date.today())\n",
    "    }"
   ]
  },
  {
   "cell_type": "code",
   "execution_count": 9,
   "metadata": {},
   "outputs": [
    {
     "name": "stdout",
     "output_type": "stream",
     "text": [
      "[15:01:37] [OK] executing \"delete from sandbox.md_deal_state_check\" succeeded [0:00:27.188158]\n",
      "[15:01:49] [OK] saving dataframe to sandbox.md_deal_state_check (adapter: teradata, how: replace, shape: (4535, 3)) succeeded [0:00:38.707792]\n",
      "Success\n"
     ]
    }
   ],
   "source": [
    "# push data to Teradata table\n",
    "data_table = pd.DataFrame(data)\n",
    "m.df_to_sql(data_table,table_name='md_deal_state_check',  adapter='teradata')\n",
    "\n",
    "print(\"Success\")"
   ]
  }
 ],
 "metadata": {
  "kernelspec": {
   "display_name": "Python 3.10.5 64-bit",
   "language": "python",
   "name": "python3"
  },
  "language_info": {
   "codemirror_mode": {
    "name": "ipython",
    "version": 3
   },
   "file_extension": ".py",
   "mimetype": "text/x-python",
   "name": "python",
   "nbconvert_exporter": "python",
   "pygments_lexer": "ipython3",
   "version": "3.10.5"
  },
  "orig_nbformat": 4,
  "vscode": {
   "interpreter": {
    "hash": "414c148522c3452b8bca3bc99b333facd4b5aaa0d0e2364d6105bb7336ba2f62"
   }
  }
 },
 "nbformat": 4,
 "nbformat_minor": 2
}
